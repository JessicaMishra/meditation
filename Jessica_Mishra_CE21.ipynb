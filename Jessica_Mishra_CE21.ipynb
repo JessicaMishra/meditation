{
  "nbformat": 4,
  "nbformat_minor": 0,
  "metadata": {
    "colab": {
      "name": "Jessica Mishra CE21",
      "provenance": [],
      "collapsed_sections": [],
      "mount_file_id": "1a8ORERZehX1gjUcr9UPGC1iIf7J9s0HS",
      "authorship_tag": "ABX9TyM09SCehpHBeGA+eY9nmLix",
      "include_colab_link": true
    },
    "kernelspec": {
      "name": "python3",
      "display_name": "Python 3"
    }
  },
  "cells": [
    {
      "cell_type": "markdown",
      "metadata": {
        "id": "view-in-github",
        "colab_type": "text"
      },
      "source": [
        "<a href=\"https://colab.research.google.com/github/JessicaMishra/meditation/blob/main/Jessica_Mishra_CE21.ipynb\" target=\"_parent\"><img src=\"https://colab.research.google.com/assets/colab-badge.svg\" alt=\"Open In Colab\"/></a>"
      ]
    },
    {
      "cell_type": "markdown",
      "metadata": {
        "id": "J-HoiJqrLyRY"
      },
      "source": [
        ""
      ]
    },
    {
      "cell_type": "code",
      "metadata": {
        "id": "YeEvfz_RROEv"
      },
      "source": [
        "\n",
        "import requests\n",
        "from bs4 import BeautifulSoup\n",
        "from google.colab import drive\n",
        "drive.mount('/content/drive')\n",
        "#del str\n",
        "for i in range(1,113):\n",
        "  URL = \"http://www.oshoworld.com/tantra_medi/otantra.asp?news_id=\"+str(i)\n",
        "  print(URL)\n",
        "  r = requests.get(URL)\n",
        "  soup= BeautifulSoup(r.content, 'html5lib')\n",
        "  content= soup.find('div')\n",
        "\n",
        "  article= ''\n",
        "  for j in content.findAll('p'):\n",
        "    article = article + ' ' + j.text\n",
        "  #print(article)\n",
        "  f=\"/content/drive/My Drive/Jessica/English_text/transcript\"+str(i)+\".txt\"\n",
        "  file = open(f, 'w')\n",
        "  file.write(article)\n",
        "\n",
        "\n",
        "\n",
        "\n",
        "\n",
        "\n",
        "\n",
        "\n",
        "\n",
        "\n",
        "\n",
        "\n",
        "\n"
      ],
      "execution_count": null,
      "outputs": []
    },
    {
      "cell_type": "code",
      "metadata": {
        "id": "TiGLyz4JP8dF"
      },
      "source": [
        "#!pip install googletrans\n",
        "import googletrans\n",
        "\n",
        "from googletrans import Translator\n",
        "for k in range(1,113):\n",
        "  contents=''\n",
        "  result = ''\n",
        "  file_trans = Translator()\n",
        "  f=open(('/content/drive/My Drive/Jessica/English_text/transcript'+ str(k) + '.txt'),'r')\n",
        "  contents=f.read()\n",
        "  result = translator.translate(contents,src='en', dest='hi')\n",
        "  #print(result)\n",
        "  t= \"/content/drive/My Drive/Jessica/Hindi_text/transcript\"+\"tran\"+str(k)+\".txt\"\n",
        "  file=open(t,'w')\n",
        "  file.write(str(result))\n",
        "  print(file)\n",
        "  \n",
        " "
      ],
      "execution_count": null,
      "outputs": []
    },
    {
      "cell_type": "code",
      "metadata": {
        "id": "Tjzcg89QNtXi"
      },
      "source": [
        "#!pip install gtts\n",
        "from gtts import gTTS\n",
        " \n",
        "import os\n",
        "for h in range(1,113):\n",
        " a=open('/content/drive/My Drive/tran'+str(h)+'.txt')\n",
        " para=a.read()\n",
        " \n",
        " myobj = gTTS(text=para,lang='hi' )\n",
        " \n",
        " myobj.save(\"/content/drive/My Drive/audio\"+str(h)+\".mp3\")\n",
        " \n",
        " os.system(\"mpg 321 audio\"+str(h)+\".mp3\")"
      ],
      "execution_count": null,
      "outputs": []
    }
  ]
}